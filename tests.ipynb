{
 "cells": [
  {
   "cell_type": "code",
   "execution_count": 1,
   "metadata": {},
   "outputs": [],
   "source": [
    "import mysql.connector"
   ]
  },
  {
   "cell_type": "code",
   "execution_count": 68,
   "metadata": {},
   "outputs": [],
   "source": [
    "db = mysql.connector.connect(host = \"localhost\",\n",
    "                            user = \"root\",\n",
    "                            passwd = \"root\",\n",
    "                            database = \"testdatabase\")"
   ]
  },
  {
   "cell_type": "code",
   "execution_count": 69,
   "metadata": {},
   "outputs": [],
   "source": [
    "mycursor = db.cursor()"
   ]
  },
  {
   "cell_type": "code",
   "execution_count": 70,
   "metadata": {},
   "outputs": [],
   "source": [
    "# Every sql query execution should be kept under try and except to handle errors properly\n",
    "try:\n",
    "    mycursor.execute(\"DROP TABLE test_table\")\n",
    "except mysql.connector.Error as err:\n",
    "    print(\"Something went wrong: {}\".format(err))"
   ]
  },
  {
   "cell_type": "code",
   "execution_count": 71,
   "metadata": {},
   "outputs": [],
   "source": [
    "# mycursor.execute(\"CREATE DATABASE testdatabase\")"
   ]
  },
  {
   "cell_type": "code",
   "execution_count": 72,
   "metadata": {},
   "outputs": [],
   "source": [
    "try:\n",
    "    mycursor.execute(\"CREATE TABLE test_table(name varchar(20) PRIMARY KEY, age INT)\")\n",
    "except mysql.connector.Error as err:\n",
    "    print(\"Something went wrong: {}\".format(err))"
   ]
  },
  {
   "cell_type": "code",
   "execution_count": 73,
   "metadata": {},
   "outputs": [],
   "source": [
    "# This is python's implementation of prepared statements\n",
    "# Must be used to ensure protection from sql injection\n",
    "try:\n",
    "    mycursor.execute(\"INSERT INTO test_table(name, age) VALUES (%s, %s)\", (\"Tauseef\", 19))\n",
    "except mysql.connector.Error as err:\n",
    "    print(\"Something went wrong: {}\".format(err))"
   ]
  },
  {
   "cell_type": "code",
   "execution_count": 74,
   "metadata": {},
   "outputs": [],
   "source": [
    "db.commit()"
   ]
  },
  {
   "cell_type": "code",
   "execution_count": 75,
   "metadata": {},
   "outputs": [],
   "source": [
    "try:\n",
    "    mycursor.execute(\"SELECT * FROM test_table\")\n",
    "except mysql.connector.Error as err:\n",
    "    print(\"Something went wrong {}\".format(err))"
   ]
  },
  {
   "cell_type": "code",
   "execution_count": 76,
   "metadata": {},
   "outputs": [
    {
     "name": "stdout",
     "output_type": "stream",
     "text": [
      "('Tauseef', 19)\n"
     ]
    }
   ],
   "source": [
    "for x in mycursor:\n",
    "    print(x)"
   ]
  },
  {
   "cell_type": "code",
   "execution_count": 77,
   "metadata": {},
   "outputs": [],
   "source": [
    "# Should close connection after retrieving result from a query otherwise server might reach connection limit\n",
    "mycursor.close()\n",
    "db.close()"
   ]
  },
  {
   "cell_type": "code",
   "execution_count": null,
   "metadata": {},
   "outputs": [],
   "source": []
  }
 ],
 "metadata": {
  "kernelspec": {
   "display_name": "Python 3",
   "language": "python",
   "name": "python3"
  },
  "language_info": {
   "codemirror_mode": {
    "name": "ipython",
    "version": 3
   },
   "file_extension": ".py",
   "mimetype": "text/x-python",
   "name": "python",
   "nbconvert_exporter": "python",
   "pygments_lexer": "ipython3",
   "version": "3.7.6"
  }
 },
 "nbformat": 4,
 "nbformat_minor": 4
}
