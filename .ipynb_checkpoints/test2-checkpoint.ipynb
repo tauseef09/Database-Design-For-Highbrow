{
 "cells": [
  {
   "cell_type": "code",
   "execution_count": 1,
   "metadata": {},
   "outputs": [],
   "source": [
    "import mysql.connector\n",
    "from datetime import datetime"
   ]
  },
  {
   "cell_type": "markdown",
   "metadata": {},
   "source": [
    "# Overview"
   ]
  },
  {
   "cell_type": "markdown",
   "metadata": {},
   "source": [
    "## Primary Entities:\n",
    "\n",
    "1. Users\n",
    "2. Posts\n",
    "3. Topics\n",
    "4. Contact Info\n",
    "5. Experience\n",
    "6. Notifications"
   ]
  },
  {
   "cell_type": "markdown",
   "metadata": {},
   "source": [
    "## Features Implemented and Tested\n",
    "1. User creation\n",
    "2. Post creation\n",
    "3. Relevant notification generation\n",
    "4. Relevant notification is deleted automatically of notifying action is undone\n",
    "5. Like/unlike post with notifications (releationship between user and post)\n",
    "6. Commenting/deleting comment with notifications (relationship between user and post)\n",
    "7. User can follow/unfollow another user (relationship between user and user)\n",
    "8. User can follow/unfollow a topic (relationship between user and topics)\n",
    "9. A post can contain topics that it is about (relationship between post and topics)\n",
    "10. Saved Posts (relationship between user and post)\n",
    "11. Reported Posts (relationship betweeen user and post)\n",
    "12. Cascading deletion (foreign key constraint)\n"
   ]
  },
  {
   "cell_type": "markdown",
   "metadata": {},
   "source": [
    "## Some of the concepts used\n",
    "1. Cascading deletion for consistency \n",
    "2. Transactional queries for ensuring atomicity and consistency\n",
    "3. Triggers as a means to achieve atomicity implicitly\n",
    "4. Universally Unique Identification (UUID) for link/id generation"
   ]
  },
  {
   "cell_type": "markdown",
   "metadata": {},
   "source": [
    "# Connection Section"
   ]
  },
  {
   "cell_type": "code",
   "execution_count": 2,
   "metadata": {},
   "outputs": [],
   "source": [
    "db = mysql.connector.connect(host = \"localhost\",\n",
    "                            user = \"root\",\n",
    "                            passwd = \"root\",\n",
    "                            database = 'test2')"
   ]
  },
  {
   "cell_type": "code",
   "execution_count": 3,
   "metadata": {},
   "outputs": [],
   "source": [
    "mycursor = db.cursor()"
   ]
  },
  {
   "cell_type": "code",
   "execution_count": 4,
   "metadata": {},
   "outputs": [],
   "source": [
    "# mycursor.execute(\"CREATE DATABASE test2\")"
   ]
  },
  {
   "cell_type": "markdown",
   "metadata": {},
   "source": [
    "# Drop Section "
   ]
  },
  {
   "cell_type": "markdown",
   "metadata": {},
   "source": [
    "### Triggers"
   ]
  },
  {
   "cell_type": "code",
   "execution_count": 5,
   "metadata": {},
   "outputs": [],
   "source": [
    "# Deleting the Post_like_decrement_via_users trigger\n",
    "try:\n",
    "    mycursor.execute(\"DROP TRIGGER Post_like_decrement_via_users\")\n",
    "except mysql.connector.Error as err:\n",
    "    print(\"Something went wrong: {}\".format(err))"
   ]
  },
  {
   "cell_type": "code",
   "execution_count": 6,
   "metadata": {},
   "outputs": [],
   "source": [
    "# Deleting the Post_like_increment trigger\n",
    "try:\n",
    "    mycursor.execute(\"DROP TRIGGER Post_like_increment\")\n",
    "except mysql.connector.Error as err:\n",
    "    print(\"Something went wrong: {}\".format(err))"
   ]
  },
  {
   "cell_type": "code",
   "execution_count": 7,
   "metadata": {},
   "outputs": [],
   "source": [
    "# Deleting the Post_like_decrement trigger\n",
    "try:\n",
    "    mycursor.execute(\"DROP TRIGGER Post_like_decrement\")\n",
    "except mysql.connector.Error as err:\n",
    "    print(\"Something went wrong: {}\".format(err))"
   ]
  },
  {
   "cell_type": "code",
   "execution_count": 8,
   "metadata": {},
   "outputs": [],
   "source": [
    "# Deleting the Post_comment_decrement_via_users trigger\n",
    "try:\n",
    "    mycursor.execute(\"DROP TRIGGER Post_comment_decrement_via_users\")\n",
    "except mysql.connector.Error as err:\n",
    "    print(\"Something went wrong: {}\".format(err))"
   ]
  },
  {
   "cell_type": "code",
   "execution_count": 9,
   "metadata": {},
   "outputs": [],
   "source": [
    "# Deleting the Post_comment_increment trigger\n",
    "try:\n",
    "    mycursor.execute(\"DROP TRIGGER Post_comment_increment\")\n",
    "except mysql.connector.Error as err:\n",
    "    print(\"Something went wrong: {}\".format(err))"
   ]
  },
  {
   "cell_type": "code",
   "execution_count": 10,
   "metadata": {},
   "outputs": [],
   "source": [
    "# Deleting the Post_comment_decrement trigger\n",
    "try:\n",
    "    mycursor.execute(\"DROP TRIGGER Post_comment_decrement\")\n",
    "except mysql.connector.Error as err:\n",
    "    print(\"Something went wrong: {}\".format(err))"
   ]
  },
  {
   "cell_type": "code",
   "execution_count": 11,
   "metadata": {},
   "outputs": [],
   "source": [
    "# Deleting the User_follower_increment trigger\n",
    "try:\n",
    "    mycursor.execute(\"DROP TRIGGER Users_follower_increment\")\n",
    "except mysql.connector.Error as err:\n",
    "    print(\"Something went wrong: {}\".format(err))"
   ]
  },
  {
   "cell_type": "code",
   "execution_count": 12,
   "metadata": {},
   "outputs": [],
   "source": [
    "# Deleting the User_following_increment trigger\n",
    "try:\n",
    "    mycursor.execute(\"DROP TRIGGER Users_following_increment\")\n",
    "except mysql.connector.Error as err:\n",
    "    print(\"Something went wrong: {}\".format(err))"
   ]
  },
  {
   "cell_type": "code",
   "execution_count": 13,
   "metadata": {},
   "outputs": [],
   "source": [
    "# Deleting the User_follower_decrement trigger\n",
    "try:\n",
    "    mycursor.execute(\"DROP TRIGGER Users_follower_decrement\")\n",
    "except mysql.connector.Error as err:\n",
    "    print(\"Something went wrong: {}\".format(err))"
   ]
  },
  {
   "cell_type": "code",
   "execution_count": 14,
   "metadata": {},
   "outputs": [],
   "source": [
    "# Deleting the User_following_decrement trigger\n",
    "try:\n",
    "    mycursor.execute(\"DROP TRIGGER Users_following_decrement\")\n",
    "except mysql.connector.Error as err:\n",
    "    print(\"Something went wrong: {}\".format(err))"
   ]
  },
  {
   "cell_type": "code",
   "execution_count": null,
   "metadata": {},
   "outputs": [],
   "source": []
  },
  {
   "cell_type": "markdown",
   "metadata": {},
   "source": [
    "### Tables"
   ]
  },
  {
   "cell_type": "code",
   "execution_count": 15,
   "metadata": {},
   "outputs": [],
   "source": [
    "# Deleting the users_likes_post table\n",
    "try:\n",
    "    mycursor.execute(\"DROP TABLE User_likes_post\")\n",
    "except mysql.connector.Error as err:\n",
    "    print(\"Something went wrong: {}\".format(err))"
   ]
  },
  {
   "cell_type": "code",
   "execution_count": 16,
   "metadata": {},
   "outputs": [],
   "source": [
    "# Deleting the user_comments_on_post table\n",
    "try:\n",
    "    mycursor.execute(\"DROP TABLE User_comments_on_post\")\n",
    "except mysql.connector.Error as err:\n",
    "    print(\"Something went wrong: {}\".format(err))"
   ]
  },
  {
   "cell_type": "code",
   "execution_count": 17,
   "metadata": {},
   "outputs": [],
   "source": [
    "# Deleting the User_follows_user table\n",
    "try:\n",
    "    mycursor.execute(\"DROP TABLE User_follows_user\")\n",
    "except mysql.connector.Error as err:\n",
    "    print(\"Something went wrong: {}\".format(err))"
   ]
  },
  {
   "cell_type": "code",
   "execution_count": 18,
   "metadata": {},
   "outputs": [],
   "source": [
    "# Deleting the user_saves_post table\n",
    "try:\n",
    "    mycursor.execute(\"DROP TABLE User_saves_post\")\n",
    "except mysql.connector.Error as err:\n",
    "    print(\"Something went wrong: {}\".format(err))"
   ]
  },
  {
   "cell_type": "code",
   "execution_count": 19,
   "metadata": {},
   "outputs": [],
   "source": [
    "# Deleting the user_reports_post table\n",
    "try:\n",
    "    mycursor.execute(\"DROP TABLE User_reports_post\")\n",
    "except mysql.connector.Error as err:\n",
    "    print(\"Something went wrong: {}\".format(err))"
   ]
  },
  {
   "cell_type": "code",
   "execution_count": 20,
   "metadata": {},
   "outputs": [],
   "source": [
    "# Deleting the notifications table first because it has the foreign key to posts and topics\n",
    "try:\n",
    "    mycursor.execute(\"DROP TABLE Notifications\")\n",
    "except mysql.connector.Error as err:\n",
    "    print(\"Something went wrong: {}\".format(err))"
   ]
  },
  {
   "cell_type": "code",
   "execution_count": 21,
   "metadata": {},
   "outputs": [],
   "source": [
    "# Deleting the post_has_topic table first because it has the foreign key to posts and topics\n",
    "try:\n",
    "    mycursor.execute(\"DROP TABLE Post_has_topic\")\n",
    "except mysql.connector.Error as err:\n",
    "    print(\"Something went wrong: {}\".format(err))"
   ]
  },
  {
   "cell_type": "code",
   "execution_count": 22,
   "metadata": {},
   "outputs": [],
   "source": [
    "# Deleting the posts table first because it has the foreign key to users\n",
    "try:\n",
    "    mycursor.execute(\"DROP TABLE Posts\")\n",
    "except mysql.connector.Error as err:\n",
    "    print(\"Something went wrong: {}\".format(err))"
   ]
  },
  {
   "cell_type": "code",
   "execution_count": 23,
   "metadata": {},
   "outputs": [],
   "source": [
    "# Deleting the contact_info table first because it has the foreign key to users\n",
    "try:\n",
    "    mycursor.execute(\"DROP TABLE Contact_info\")\n",
    "except mysql.connector.Error as err:\n",
    "    print(\"Something went wrong: {}\".format(err))"
   ]
  },
  {
   "cell_type": "code",
   "execution_count": 24,
   "metadata": {},
   "outputs": [],
   "source": [
    "# Deleting the experience table first because it has the foreign key to users\n",
    "try:\n",
    "    mycursor.execute(\"DROP TABLE Experience\")\n",
    "except mysql.connector.Error as err:\n",
    "    print(\"Something went wrong: {}\".format(err))"
   ]
  },
  {
   "cell_type": "code",
   "execution_count": 25,
   "metadata": {},
   "outputs": [],
   "source": [
    "# Deleting the user_follows_topic table first because it has the foreign key to users and topics\n",
    "try:\n",
    "    mycursor.execute(\"DROP TABLE User_follows_topic\")\n",
    "except mysql.connector.Error as err:\n",
    "    print(\"Something went wrong: {}\".format(err))"
   ]
  },
  {
   "cell_type": "code",
   "execution_count": 26,
   "metadata": {},
   "outputs": [],
   "source": [
    "# Deleting the topics table \n",
    "try:\n",
    "    mycursor.execute(\"DROP TABLE Topics\")\n",
    "except mysql.connector.Error as err:\n",
    "    print(\"Something went wrong: {}\".format(err))"
   ]
  },
  {
   "cell_type": "code",
   "execution_count": 27,
   "metadata": {},
   "outputs": [],
   "source": [
    "# Deleting the users table\n",
    "try:\n",
    "    mycursor.execute(\"DROP TABLE Users\")\n",
    "except mysql.connector.Error as err:\n",
    "    print(\"Something went wrong: {}\".format(err))"
   ]
  },
  {
   "cell_type": "markdown",
   "metadata": {},
   "source": [
    "# Testing Section"
   ]
  },
  {
   "cell_type": "markdown",
   "metadata": {},
   "source": [
    "## Testing the Users table"
   ]
  },
  {
   "cell_type": "code",
   "execution_count": 28,
   "metadata": {},
   "outputs": [],
   "source": [
    "# Creating the users table \n",
    "try:\n",
    "    mycursor.execute('''CREATE TABLE IF NOT EXISTS Users\n",
    "                        (\n",
    "                            full_name VARCHAR(50) NOT NULL,\n",
    "                            username VARCHAR(20),\n",
    "                            email VARCHAR(50) NOT NULL,\n",
    "                            password VARCHAR(30) NOT NULL,\n",
    "                            remember_me SMALLINT DEFAULT 0,\n",
    "                            profile_picture VARCHAR(30) DEFAULT NULL,\n",
    "                            num_followers INT DEFAULT 0,\n",
    "                            num_following INT DEFAULT 0,\n",
    "                            short_bio TINYTEXT DEFAULT NULL,\n",
    "                            CONSTRAINT user_pk PRIMARY KEY(username)\n",
    "                        )''')\n",
    "except mysql.connector.Error as err:\n",
    "    print(\"Something went wrong: {}\".format(err))"
   ]
  },
  {
   "cell_type": "code",
   "execution_count": 29,
   "metadata": {},
   "outputs": [],
   "source": [
    "# Sample input to the users table \n",
    "try:\n",
    "    mycursor.execute('''INSERT INTO Users(full_name, username, email, password) VALUES(%s, %s, %s, %s)''', \n",
    "                     (\"Tauseef Tajwar\", \"tauseef09\", \"tauseef.tajwar36@gmail.com\", \"password\"))\n",
    "except mysql.connector.Error as err:\n",
    "    print(\"Something went wrong: {}\".format(err))"
   ]
  },
  {
   "cell_type": "code",
   "execution_count": 30,
   "metadata": {},
   "outputs": [],
   "source": [
    "# Another sample input to the users table\n",
    "try:\n",
    "    mycursor.execute('''INSERT INTO Users(full_name, username, email, password) VALUES(%s, %s, %s, %s)''', \n",
    "                     (\"Ishmam Tashdeed\", \"ishmam05\", \"ishmamtashdeed05@gmail.com\", \"password\"))\n",
    "except mysql.connector.Error as err:\n",
    "    print(\"Something went wrong: {}\".format(err))"
   ]
  },
  {
   "cell_type": "code",
   "execution_count": 31,
   "metadata": {},
   "outputs": [],
   "source": [
    "db.commit()"
   ]
  },
  {
   "cell_type": "code",
   "execution_count": 32,
   "metadata": {},
   "outputs": [],
   "source": [
    "# Sample query for users table\n",
    "try:\n",
    "    mycursor.execute(\"SELECT * FROM Users\")\n",
    "except mysql.connector.Error as err:\n",
    "    print(\"Something went wrong {}\".format(err))"
   ]
  },
  {
   "cell_type": "code",
   "execution_count": 33,
   "metadata": {},
   "outputs": [
    {
     "name": "stdout",
     "output_type": "stream",
     "text": [
      "('Ishmam Tashdeed', 'ishmam05', 'ishmamtashdeed05@gmail.com', 'password', 0, None, 0, 0, None)\n",
      "('Tauseef Tajwar', 'tauseef09', 'tauseef.tajwar36@gmail.com', 'password', 0, None, 0, 0, None)\n"
     ]
    }
   ],
   "source": [
    "# Displaying the result of the query\n",
    "for x in mycursor:\n",
    "    print(x)"
   ]
  },
  {
   "cell_type": "markdown",
   "metadata": {},
   "source": [
    "## Testing the Posts table"
   ]
  },
  {
   "cell_type": "code",
   "execution_count": 34,
   "metadata": {},
   "outputs": [],
   "source": [
    "# Creating the posts table \n",
    "try:\n",
    "    mycursor.execute('''CREATE TABLE IF NOT EXISTS Posts\n",
    "                        (\n",
    "                            created_by VARCHAR(20) NOT NULL,\n",
    "                            created_on DATETIME NOT NULL,\n",
    "                            post_id VARCHAR(36),\n",
    "                            title TINYTEXT NOT NULL,\n",
    "                            content TEXT NOT NULL,\n",
    "                            img VARCHAR(30) DEFAULT NULL,\n",
    "                            num_likes INT DEFAULT 0,\n",
    "                            num_comments INT DEFAULT 0,\n",
    "                            CONSTRAINT posts_pk PRIMARY KEY(post_id),\n",
    "                            CONSTRAINT user_post_fk FOREIGN KEY(created_by) REFERENCES Users(username) ON DELETE CASCADE\n",
    "                        )''')\n",
    "except mysql.connector.Error as err:\n",
    "    print(\"Something went wrong: {}\".format(err))"
   ]
  },
  {
   "cell_type": "code",
   "execution_count": 35,
   "metadata": {},
   "outputs": [],
   "source": [
    "# Sample input to the posts table\n",
    "# The function UUID() is a mysql function that is used to generate a 36-character long unique post id\n",
    "created_by = 'tauseef09'\n",
    "title = 'This is a title'\n",
    "content = \"\"\"Machine learning (ML) is the study of computer algorithms that improve automatically through experience and by the use of data.[1] It is seen as a part of artificial intelligence. Machine learning algorithms build a model based on sample data, known as \"training data\", in order to make predictions or decisions without being explicitly programmed to do so.[2] Machine learning algorithms are used in a wide variety of applications, such as in medicine, email filtering, speech recognition, and computer vision, where it is difficult or unfeasible to develop conventional algorithms to perform the needed tasks.[3]\n",
    "\n",
    "A subset of machine learning is closely related to computational statistics, which focuses on making predictions using computers; but not all machine learning is statistical learning. The study of mathematical optimization delivers methods, theory and application domains to the field of machine learning. Data mining is a related field of study, focusing on exploratory data analysis through unsupervised learning.[5][6] In its application across business problems, machine learning is also referred to as predictive analytics.\"\"\"\n",
    "\n",
    "try:\n",
    "    mycursor.execute('''INSERT INTO Posts(created_by, created_on, post_id, title, content) VALUES(%s, %s, UUID(), %s, %s)''', \n",
    "                     (created_by, datetime.now(), title, content))\n",
    "except mysql.connector.Error as err:\n",
    "    print(\"Something went wrong: {}\".format(err))"
   ]
  },
  {
   "cell_type": "code",
   "execution_count": 36,
   "metadata": {},
   "outputs": [],
   "source": [
    "db.commit()"
   ]
  },
  {
   "cell_type": "code",
   "execution_count": 37,
   "metadata": {},
   "outputs": [],
   "source": [
    "# Sample query from the posts table\n",
    "try:\n",
    "    mycursor.execute(\"SELECT * FROM Posts\")\n",
    "except mysql.connector.Error as err:\n",
    "    print(\"Something went wrong {}\".format(err))"
   ]
  },
  {
   "cell_type": "code",
   "execution_count": 38,
   "metadata": {},
   "outputs": [
    {
     "name": "stdout",
     "output_type": "stream",
     "text": [
      "\n",
      "\n",
      "tauseef09\n",
      "2021-07-15 15:37:54\n",
      "54c830f5-e550-11eb-92b2-c8d9d28c3c05\n",
      "This is a title\n",
      "Machine learning (ML) is the study of computer algorithms that improve automatically through experience and by the use of data.[1] It is seen as a part of artificial intelligence. Machine learning algorithms build a model based on sample data, known as \"training data\", in order to make predictions or decisions without being explicitly programmed to do so.[2] Machine learning algorithms are used in a wide variety of applications, such as in medicine, email filtering, speech recognition, and computer vision, where it is difficult or unfeasible to develop conventional algorithms to perform the needed tasks.[3]\n",
      "\n",
      "A subset of machine learning is closely related to computational statistics, which focuses on making predictions using computers; but not all machine learning is statistical learning. The study of mathematical optimization delivers methods, theory and application domains to the field of machine learning. Data mining is a related field of study, focusing on exploratory data analysis through unsupervised learning.[5][6] In its application across business problems, machine learning is also referred to as predictive analytics.\n",
      "None\n",
      "0\n",
      "0\n"
     ]
    }
   ],
   "source": [
    "for x in mycursor:\n",
    "    print('\\n')\n",
    "    for item in x:\n",
    "        print(item)"
   ]
  },
  {
   "cell_type": "markdown",
   "metadata": {},
   "source": [
    "## Creating the notification mechanism"
   ]
  },
  {
   "cell_type": "code",
   "execution_count": 39,
   "metadata": {},
   "outputs": [],
   "source": [
    "# Creating the notifications table \n",
    "try:\n",
    "    mycursor.execute('''CREATE TABLE IF NOT EXISTS Notifications\n",
    "                        (\n",
    "                            notif_id VARCHAR(36),\n",
    "                            hyperlink_post VARCHAR(36) DEFAULT NULL,\n",
    "                            hyperlink_user VARCHAR(20) DEFAULT NULL,\n",
    "                            notif_msg TINYTEXT DEFAULT NULL,\n",
    "                            notified_user VARCHAR(20) NOT NULL,\n",
    "                            notifying_user VARCHAR(20) NOT NULL,\n",
    "                            type ENUM('like', 'comment', 'follow') NOT NULL,\n",
    "                            not_time DATETIME NOT NULL,\n",
    "                            CONSTRAINT notif_pk PRIMARY KEY(notif_id),\n",
    "                            CONSTRAINT notified_user_fk FOREIGN KEY(notified_user) REFERENCES Users(username) ON DELETE CASCADE,\n",
    "                            CONSTRAINT notifying_user_fk FOREIGN KEY(notifying_user) REFERENCES Users(username) ON DELETE CASCADE,\n",
    "                            CONSTRAINT notif_hyp_user_fk FOREIGN KEY(hyperlink_user) REFERENCES Users(username) ON DELETE CASCADE,\n",
    "                            CONSTRAINT notif_post_fk FOREIGN KEY(hyperlink_post) REFERENCES Posts(post_id) ON DELETE CASCADE\n",
    "                        )''')\n",
    "except mysql.connector.Error as err:\n",
    "    print(\"Something went wrong: {}\".format(err))"
   ]
  },
  {
   "cell_type": "code",
   "execution_count": 40,
   "metadata": {},
   "outputs": [],
   "source": [
    "def generate_notif_msg(notifying_user, typ):\n",
    "    msg = notifying_user + \" \" \n",
    "    if typ == \"like\":\n",
    "        msg = msg + \"likes your post.\"\n",
    "    elif typ == \"comment\":\n",
    "        msg = msg + \"commented on your post.\"\n",
    "    elif typ == \"follow\":\n",
    "        msg = msg + \"started following you.\"\n",
    "    return msg"
   ]
  },
  {
   "cell_type": "code",
   "execution_count": 41,
   "metadata": {},
   "outputs": [
    {
     "name": "stdout",
     "output_type": "stream",
     "text": [
      "ishmam05 likes your post.\n",
      "ishmam05 commented on your post.\n",
      "ishmam05 started following you.\n"
     ]
    }
   ],
   "source": [
    "print(generate_notif_msg(\"ishmam05\", \"like\"))\n",
    "print(generate_notif_msg(\"ishmam05\", \"comment\"))\n",
    "print(generate_notif_msg(\"ishmam05\", \"follow\"))"
   ]
  },
  {
   "cell_type": "markdown",
   "metadata": {},
   "source": [
    "## Testing the liking/unliking mechanism with notification"
   ]
  },
  {
   "cell_type": "code",
   "execution_count": 42,
   "metadata": {},
   "outputs": [],
   "source": [
    "# Creating the user_likes_post table \n",
    "try:\n",
    "    mycursor.execute('''CREATE TABLE IF NOT EXISTS User_likes_post\n",
    "                        (\n",
    "                            username VARCHAR(20), \n",
    "                            post_id VARCHAR(36),\n",
    "                            CONSTRAINT user_likes_post_pk PRIMARY KEY(username, post_id),\n",
    "                            CONSTRAINT user_like_post_users_fk FOREIGN KEY(username) REFERENCES Users(username) ON DELETE CASCADE,\n",
    "                            CONSTRAINT user_like_post_posts_fk FOREIGN KEY(post_id) REFERENCES Posts(post_id) ON DELETE CASCADE\n",
    "                        )''')\n",
    "except mysql.connector.Error as err:\n",
    "    print(\"Something went wrong: {}\".format(err))"
   ]
  },
  {
   "cell_type": "code",
   "execution_count": 43,
   "metadata": {},
   "outputs": [],
   "source": [
    "# Creating the trigger to increment likes \n",
    "try:\n",
    "    mycursor.execute('''CREATE TRIGGER Post_like_increment\n",
    "                        AFTER INSERT ON User_likes_post\n",
    "                        FOR EACH ROW\n",
    "                        UPDATE Posts\n",
    "                        SET num_likes = num_likes+1\n",
    "                        WHERE post_id = NEW.post_id    \n",
    "                        ''')\n",
    "except mysql.connector.Error as err:\n",
    "    print(\"Something went wrong: {}\".format(err))"
   ]
  },
  {
   "cell_type": "code",
   "execution_count": 44,
   "metadata": {},
   "outputs": [],
   "source": [
    "# Creating the trigger to decrement likes\n",
    "try:\n",
    "    mycursor.execute('''CREATE TRIGGER Post_like_decrement\n",
    "                        AFTER DELETE ON User_likes_post\n",
    "                        FOR EACH ROW\n",
    "                        UPDATE Posts\n",
    "                        SET num_likes = num_likes-1\n",
    "                        WHERE post_id = OLD.post_id    \n",
    "                        ''')\n",
    "except mysql.connector.Error as err:\n",
    "    print(\"Something went wrong: {}\".format(err))"
   ]
  },
  {
   "cell_type": "code",
   "execution_count": 45,
   "metadata": {},
   "outputs": [],
   "source": [
    "# Creating the trigger to decrement likes via users\n",
    "# An extra trigger is needed because mysql doesn't fire a trigger for foreign key constraints\n",
    "try:\n",
    "    mycursor.execute('''CREATE TRIGGER Post_like_decrement_via_users\n",
    "                        BEFORE DELETE ON Users\n",
    "                        FOR EACH ROW\n",
    "                        UPDATE Posts\n",
    "                        SET num_likes = num_likes-1\n",
    "                        WHERE post_id IN (SELECT post_id FROM User_likes_post WHERE username=OLD.username)    \n",
    "                        ''')\n",
    "except mysql.connector.Error as err:\n",
    "    print(\"Something went wrong: {}\".format(err))"
   ]
  },
  {
   "cell_type": "code",
   "execution_count": 46,
   "metadata": {},
   "outputs": [],
   "source": [
    "# Simulating the mechanism of liking a post\n",
    "notified_user = \"tauseef09\"\n",
    "notifying_user = \"ishmam05\"\n",
    "try:\n",
    "    mycursor.execute(\"\"\"SELECT post_id FROM Posts WHERE created_by = '%s' \"\"\" % (notified_user))\n",
    "except mysql.connector.Error as err:\n",
    "    print(\"Something went wrong {}\".format(err))\n",
    "\n",
    "post_id = \"\"\n",
    "for x in mycursor:\n",
    "    post_id = x[0]\n",
    "    \n",
    "    \n",
    "try:\n",
    "    mycursor.execute('''INSERT INTO User_likes_post(username, post_id) VALUES(%s, %s)''', \n",
    "                     (notifying_user, post_id))\n",
    "    msg = generate_notif_msg(notifying_user, 'like')\n",
    "    mycursor.execute('''INSERT INTO Notifications(notif_id, hyperlink_post, notif_msg, notified_user, notifying_user, type, not_time) \n",
    "                        VALUES(UUID(), %s, %s, %s, %s, 'like', %s)''', \n",
    "                     (post_id, msg, notified_user, notifying_user, datetime.now()))\n",
    "    db.commit()\n",
    "except mysql.connector.Error as err:\n",
    "    print(\"Something went wrong: {}\".format(err))\n",
    "    db.rollback()"
   ]
  },
  {
   "cell_type": "code",
   "execution_count": 47,
   "metadata": {},
   "outputs": [
    {
     "name": "stdout",
     "output_type": "stream",
     "text": [
      "tauseef09\n",
      "2021-07-15 15:37:54\n",
      "54c830f5-e550-11eb-92b2-c8d9d28c3c05\n",
      "This is a title\n",
      "Machine learning (ML) is the study of computer algorithms that improve automatically through experience and by the use of data.[1] It is seen as a part of artificial intelligence. Machine learning algorithms build a model based on sample data, known as \"training data\", in order to make predictions or decisions without being explicitly programmed to do so.[2] Machine learning algorithms are used in a wide variety of applications, such as in medicine, email filtering, speech recognition, and computer vision, where it is difficult or unfeasible to develop conventional algorithms to perform the needed tasks.[3]\n",
      "\n",
      "A subset of machine learning is closely related to computational statistics, which focuses on making predictions using computers; but not all machine learning is statistical learning. The study of mathematical optimization delivers methods, theory and application domains to the field of machine learning. Data mining is a related field of study, focusing on exploratory data analysis through unsupervised learning.[5][6] In its application across business problems, machine learning is also referred to as predictive analytics.\n",
      "None\n",
      "1\n",
      "0\n",
      "('ishmam05 likes your post.',)\n"
     ]
    }
   ],
   "source": [
    "# Checking whether number of likes has been incremented and notification has been created\n",
    "try:\n",
    "    mycursor.execute(\"SELECT * FROM Posts\")\n",
    "except mysql.connector.Error as err:\n",
    "    print(\"Something went wrong {}\".format(err))\n",
    "    \n",
    "for x in mycursor:\n",
    "    for item in x:\n",
    "        print(item)\n",
    "\n",
    "username = \"tauseef09\"\n",
    "try:\n",
    "    mycursor.execute(\"SELECT notif_msg FROM Notifications WHERE notified_user='%s' ORDER BY not_time DESC\" % (username))\n",
    "except mysql.connector.Error as err:\n",
    "    print(\"Something went wrong {}\".format(err))\n",
    "    \n",
    "for x in mycursor:\n",
    "    print(x)"
   ]
  },
  {
   "cell_type": "code",
   "execution_count": 48,
   "metadata": {},
   "outputs": [],
   "source": [
    "# Creating another like to test count and notifications\n",
    "notified_user = \"tauseef09\"\n",
    "notifying_user = \"tauseef09\"\n",
    "try:\n",
    "    mycursor.execute(\"\"\"SELECT post_id FROM Posts WHERE created_by = '%s' \"\"\" % (notified_user))\n",
    "except mysql.connector.Error as err:\n",
    "    print(\"Something went wrong {}\".format(err))\n",
    "\n",
    "post_id = \"\"\n",
    "for x in mycursor:\n",
    "    post_id = x[0]\n",
    "    \n",
    "    \n",
    "try:\n",
    "    mycursor.execute('''INSERT INTO User_likes_post(username, post_id) VALUES(%s, %s)''', \n",
    "                     (notifying_user, post_id))\n",
    "    msg = generate_notif_msg(notifying_user, 'like')\n",
    "    mycursor.execute('''INSERT INTO Notifications(notif_id, hyperlink_post, notif_msg, notified_user, notifying_user, type, not_time) \n",
    "                        VALUES(UUID(), %s, %s, %s, %s, 'like', %s)''', \n",
    "                     (post_id, msg, notified_user, notifying_user, datetime.now()))\n",
    "    db.commit()\n",
    "except mysql.connector.Error as err:\n",
    "    print(\"Something went wrong: {}\".format(err))\n",
    "    db.rollback()"
   ]
  },
  {
   "cell_type": "code",
   "execution_count": 49,
   "metadata": {},
   "outputs": [
    {
     "name": "stdout",
     "output_type": "stream",
     "text": [
      "tauseef09\n",
      "2021-07-15 15:37:54\n",
      "54c830f5-e550-11eb-92b2-c8d9d28c3c05\n",
      "This is a title\n",
      "Machine learning (ML) is the study of computer algorithms that improve automatically through experience and by the use of data.[1] It is seen as a part of artificial intelligence. Machine learning algorithms build a model based on sample data, known as \"training data\", in order to make predictions or decisions without being explicitly programmed to do so.[2] Machine learning algorithms are used in a wide variety of applications, such as in medicine, email filtering, speech recognition, and computer vision, where it is difficult or unfeasible to develop conventional algorithms to perform the needed tasks.[3]\n",
      "\n",
      "A subset of machine learning is closely related to computational statistics, which focuses on making predictions using computers; but not all machine learning is statistical learning. The study of mathematical optimization delivers methods, theory and application domains to the field of machine learning. Data mining is a related field of study, focusing on exploratory data analysis through unsupervised learning.[5][6] In its application across business problems, machine learning is also referred to as predictive analytics.\n",
      "None\n",
      "2\n",
      "0\n",
      "('tauseef09 likes your post.',)\n",
      "('ishmam05 likes your post.',)\n"
     ]
    }
   ],
   "source": [
    "# Checking whether number of likes has been incremented and notification has been created\n",
    "try:\n",
    "    mycursor.execute(\"SELECT * FROM Posts\")\n",
    "except mysql.connector.Error as err:\n",
    "    print(\"Something went wrong {}\".format(err))\n",
    "    \n",
    "for x in mycursor:\n",
    "    for item in x:\n",
    "        print(item)\n",
    "\n",
    "username = \"tauseef09\"\n",
    "try:\n",
    "    mycursor.execute(\"SELECT notif_msg FROM Notifications WHERE notified_user='%s' ORDER BY not_time DESC\" % (username))\n",
    "except mysql.connector.Error as err:\n",
    "    print(\"Something went wrong {}\".format(err))\n",
    "    \n",
    "for x in mycursor:\n",
    "    print(x)"
   ]
  },
  {
   "cell_type": "code",
   "execution_count": 50,
   "metadata": {},
   "outputs": [],
   "source": [
    "# Simulating the mechanism of unliking a post\n",
    "notified_user = \"tauseef09\"\n",
    "notifying_user = \"ishmam05\"\n",
    "try:\n",
    "    mycursor.execute(\"\"\"SELECT post_id FROM Posts WHERE created_by = '%s' \"\"\" % (notified_user))\n",
    "except mysql.connector.Error as err:\n",
    "    print(\"Something went wrong {}\".format(err))\n",
    "\n",
    "post_id = \"\"\n",
    "for x in mycursor:\n",
    "    post_id = x[0]\n",
    "    \n",
    "try:\n",
    "    mycursor.execute(\"DELETE FROM User_likes_post WHERE username= '%s'\" % (notifying_user))\n",
    "    mycursor.execute('''DELETE FROM Notifications WHERE notified_user='%s' AND notifying_user='%s'\n",
    "                        AND hyperlink_post='%s' AND type='like' ''' % (notified_user, notifying_user, post_id))\n",
    "    db.commit()\n",
    "except mysql.connector.Error as err:\n",
    "    print(\"Something went wrong: {}\".format(err))\n",
    "    db.rollback()"
   ]
  },
  {
   "cell_type": "code",
   "execution_count": null,
   "metadata": {},
   "outputs": [],
   "source": []
  },
  {
   "cell_type": "code",
   "execution_count": 51,
   "metadata": {},
   "outputs": [
    {
     "name": "stdout",
     "output_type": "stream",
     "text": [
      "tauseef09\n",
      "2021-07-15 15:37:54\n",
      "54c830f5-e550-11eb-92b2-c8d9d28c3c05\n",
      "This is a title\n",
      "Machine learning (ML) is the study of computer algorithms that improve automatically through experience and by the use of data.[1] It is seen as a part of artificial intelligence. Machine learning algorithms build a model based on sample data, known as \"training data\", in order to make predictions or decisions without being explicitly programmed to do so.[2] Machine learning algorithms are used in a wide variety of applications, such as in medicine, email filtering, speech recognition, and computer vision, where it is difficult or unfeasible to develop conventional algorithms to perform the needed tasks.[3]\n",
      "\n",
      "A subset of machine learning is closely related to computational statistics, which focuses on making predictions using computers; but not all machine learning is statistical learning. The study of mathematical optimization delivers methods, theory and application domains to the field of machine learning. Data mining is a related field of study, focusing on exploratory data analysis through unsupervised learning.[5][6] In its application across business problems, machine learning is also referred to as predictive analytics.\n",
      "None\n",
      "1\n",
      "0\n",
      "('tauseef09 likes your post.',)\n"
     ]
    }
   ],
   "source": [
    "# Checking whether number of likes has been decremented and notification has been deleted\n",
    "try:\n",
    "    mycursor.execute(\"SELECT * FROM Posts\")\n",
    "except mysql.connector.Error as err:\n",
    "    print(\"Something went wrong {}\".format(err))\n",
    "    \n",
    "for x in mycursor:\n",
    "    for item in x:\n",
    "        print(item)\n",
    "\n",
    "username = \"tauseef09\"\n",
    "try:\n",
    "    mycursor.execute(\"SELECT notif_msg FROM Notifications WHERE notified_user='%s' ORDER BY not_time DESC\" % (username))\n",
    "except mysql.connector.Error as err:\n",
    "    print(\"Something went wrong {}\".format(err))\n",
    "    \n",
    "for x in mycursor:\n",
    "    print(x)"
   ]
  },
  {
   "cell_type": "markdown",
   "metadata": {},
   "source": [
    "## Testing the commenting mechanism"
   ]
  },
  {
   "cell_type": "code",
   "execution_count": 52,
   "metadata": {},
   "outputs": [],
   "source": [
    "# Creating the user_comments_on_post table \n",
    "try:\n",
    "    mycursor.execute('''CREATE TABLE IF NOT EXISTS User_comments_on_post\n",
    "                        (\n",
    "                            comment_id VARCHAR(36),\n",
    "                            username VARCHAR(20), \n",
    "                            post_id VARCHAR(36),\n",
    "                            comment_body TEXT NOT NULL,\n",
    "                            created_on DATETIME NOT NULL, \n",
    "                            CONSTRAINT user_comm_on_post_pk PRIMARY KEY(comment_id, username, post_id),\n",
    "                            CONSTRAINT user_comm_post_users_fk FOREIGN KEY(username) REFERENCES Users(username) ON DELETE CASCADE,\n",
    "                            CONSTRAINT user_comm_post_posts_fk FOREIGN KEY(post_id) REFERENCES Posts(post_id) ON DELETE CASCADE\n",
    "                        )''')\n",
    "except mysql.connector.Error as err:\n",
    "    print(\"Something went wrong: {}\".format(err))"
   ]
  },
  {
   "cell_type": "code",
   "execution_count": 53,
   "metadata": {},
   "outputs": [],
   "source": [
    "# Creating the trigger to increment number of comments \n",
    "try:\n",
    "    mycursor.execute('''CREATE TRIGGER Post_comment_increment\n",
    "                        AFTER INSERT ON User_comments_on_post\n",
    "                        FOR EACH ROW\n",
    "                        UPDATE Posts\n",
    "                        SET num_comments = num_comments+1\n",
    "                        WHERE post_id = NEW.post_id    \n",
    "                        ''')\n",
    "except mysql.connector.Error as err:\n",
    "    print(\"Something went wrong: {}\".format(err))"
   ]
  },
  {
   "cell_type": "code",
   "execution_count": 54,
   "metadata": {},
   "outputs": [],
   "source": [
    "# Creating the trigger to decrement number of comments\n",
    "try:\n",
    "    mycursor.execute('''CREATE TRIGGER Post_comment_decrement\n",
    "                        AFTER DELETE ON User_comments_on_post\n",
    "                        FOR EACH ROW\n",
    "                        UPDATE Posts\n",
    "                        SET num_comments = num_comments-1\n",
    "                        WHERE post_id = OLD.post_id    \n",
    "                        ''')\n",
    "except mysql.connector.Error as err:\n",
    "    print(\"Something went wrong: {}\".format(err))"
   ]
  },
  {
   "cell_type": "code",
   "execution_count": 55,
   "metadata": {},
   "outputs": [],
   "source": [
    "# Creating the trigger to decrement comments via users\n",
    "# An extra trigger is needed because mysql doesn't fire a trigger for foreign key constraints\n",
    "try:\n",
    "    mycursor.execute('''CREATE TRIGGER Post_comment_decrement_via_users\n",
    "                        BEFORE DELETE ON Users\n",
    "                        FOR EACH ROW\n",
    "                        UPDATE Posts\n",
    "                        SET num_comments = num_comments-1\n",
    "                        WHERE post_id IN (SELECT post_id FROM User_comments_on_post WHERE username=OLD.username)    \n",
    "                        ''')\n",
    "except mysql.connector.Error as err:\n",
    "    print(\"Something went wrong: {}\".format(err))"
   ]
  },
  {
   "cell_type": "code",
   "execution_count": 56,
   "metadata": {},
   "outputs": [],
   "source": [
    "# Simulating the mechanism of commenting on a post\n",
    "notified_user = \"tauseef09\"\n",
    "comment = \"This is a comment by Ishmam\"\n",
    "notifying_user = \"ishmam05\"\n",
    "try:\n",
    "    mycursor.execute(\"SELECT post_id FROM Posts WHERE created_by='%s'\" % (notified_user))\n",
    "except mysql.connector.Error as err:\n",
    "    print(\"Something went wrong {}\".format(err))\n",
    "\n",
    "post_id = \"\"\n",
    "for x in mycursor:\n",
    "    post_id = x[0]\n",
    "    \n",
    "    \n",
    "try:\n",
    "    mycursor.execute('''INSERT INTO User_comments_on_post(comment_id, username, post_id, comment_body, created_on)\n",
    "                        VALUES(UUID(), %s, %s, %s, %s)''', \n",
    "                     (notifying_user, post_id, comment, datetime.now()))\n",
    "    msg = generate_notif_msg(notifying_user, 'comment')\n",
    "    mycursor.execute('''INSERT INTO Notifications(notif_id, hyperlink_post, notif_msg, notified_user, notifying_user, type, not_time) \n",
    "                        VALUES(UUID(), %s, %s, %s, %s, 'comment', %s)''', \n",
    "                     (post_id, msg, notified_user, notifying_user, datetime.now()))\n",
    "    db.commit()\n",
    "except mysql.connector.Error as err:\n",
    "    print(\"Something went wrong: {}\".format(err))\n",
    "    db.rollback()"
   ]
  },
  {
   "cell_type": "code",
   "execution_count": 57,
   "metadata": {},
   "outputs": [
    {
     "name": "stdout",
     "output_type": "stream",
     "text": [
      "tauseef09\n",
      "2021-07-15 15:37:54\n",
      "54c830f5-e550-11eb-92b2-c8d9d28c3c05\n",
      "This is a title\n",
      "Machine learning (ML) is the study of computer algorithms that improve automatically through experience and by the use of data.[1] It is seen as a part of artificial intelligence. Machine learning algorithms build a model based on sample data, known as \"training data\", in order to make predictions or decisions without being explicitly programmed to do so.[2] Machine learning algorithms are used in a wide variety of applications, such as in medicine, email filtering, speech recognition, and computer vision, where it is difficult or unfeasible to develop conventional algorithms to perform the needed tasks.[3]\n",
      "\n",
      "A subset of machine learning is closely related to computational statistics, which focuses on making predictions using computers; but not all machine learning is statistical learning. The study of mathematical optimization delivers methods, theory and application domains to the field of machine learning. Data mining is a related field of study, focusing on exploratory data analysis through unsupervised learning.[5][6] In its application across business problems, machine learning is also referred to as predictive analytics.\n",
      "None\n",
      "1\n",
      "1\n",
      "('ishmam05 commented on your post.',)\n",
      "('tauseef09 likes your post.',)\n"
     ]
    }
   ],
   "source": [
    "# Checking whether number of comments has been incremented and notification has been generated\n",
    "try:\n",
    "    mycursor.execute(\"SELECT * FROM Posts\")\n",
    "except mysql.connector.Error as err:\n",
    "    print(\"Something went wrong {}\".format(err))\n",
    "    \n",
    "for x in mycursor:\n",
    "    for item in x:\n",
    "        print(item)\n",
    "        \n",
    "        \n",
    "username = \"tauseef09\"\n",
    "try:\n",
    "    mycursor.execute(\"SELECT notif_msg FROM Notifications WHERE notified_user='%s' ORDER BY not_time DESC\" % (username))\n",
    "except mysql.connector.Error as err:\n",
    "    print(\"Something went wrong {}\".format(err))\n",
    "    \n",
    "for x in mycursor:\n",
    "    print(x)"
   ]
  },
  {
   "cell_type": "code",
   "execution_count": 58,
   "metadata": {},
   "outputs": [],
   "source": [
    "# Creating another comment for sanity check\n",
    "notified_user = \"tauseef09\"\n",
    "comment = \"This is a comment by Tauseef\"\n",
    "notifying_user = \"tauseef09\"\n",
    "try:\n",
    "    mycursor.execute(\"SELECT post_id FROM Posts WHERE created_by='%s'\" % (notified_user))\n",
    "except mysql.connector.Error as err:\n",
    "    print(\"Something went wrong {}\".format(err))\n",
    "\n",
    "post_id = \"\"\n",
    "for x in mycursor:\n",
    "    post_id = x[0]\n",
    "    \n",
    "    \n",
    "try:\n",
    "    mycursor.execute('''INSERT INTO User_comments_on_post(comment_id, username, post_id, comment_body, created_on)\n",
    "                        VALUES(UUID(), %s, %s, %s, %s)''', \n",
    "                     (notifying_user, post_id, comment, datetime.now()))\n",
    "    msg = generate_notif_msg(notifying_user, 'comment')\n",
    "    mycursor.execute('''INSERT INTO Notifications(notif_id, hyperlink_post, notif_msg, notified_user, notifying_user, type, not_time) \n",
    "                        VALUES(UUID(), %s, %s, %s, %s, 'comment', %s)''', \n",
    "                     (post_id, msg, notified_user, notifying_user, datetime.now()))\n",
    "    db.commit()\n",
    "except mysql.connector.Error as err:\n",
    "    print(\"Something went wrong: {}\".format(err))\n",
    "    db.rollback()"
   ]
  },
  {
   "cell_type": "code",
   "execution_count": 59,
   "metadata": {},
   "outputs": [
    {
     "name": "stdout",
     "output_type": "stream",
     "text": [
      "tauseef09\n",
      "2021-07-15 15:37:54\n",
      "54c830f5-e550-11eb-92b2-c8d9d28c3c05\n",
      "This is a title\n",
      "Machine learning (ML) is the study of computer algorithms that improve automatically through experience and by the use of data.[1] It is seen as a part of artificial intelligence. Machine learning algorithms build a model based on sample data, known as \"training data\", in order to make predictions or decisions without being explicitly programmed to do so.[2] Machine learning algorithms are used in a wide variety of applications, such as in medicine, email filtering, speech recognition, and computer vision, where it is difficult or unfeasible to develop conventional algorithms to perform the needed tasks.[3]\n",
      "\n",
      "A subset of machine learning is closely related to computational statistics, which focuses on making predictions using computers; but not all machine learning is statistical learning. The study of mathematical optimization delivers methods, theory and application domains to the field of machine learning. Data mining is a related field of study, focusing on exploratory data analysis through unsupervised learning.[5][6] In its application across business problems, machine learning is also referred to as predictive analytics.\n",
      "None\n",
      "1\n",
      "2\n",
      "('tauseef09 commented on your post.',)\n",
      "('ishmam05 commented on your post.',)\n",
      "('tauseef09 likes your post.',)\n"
     ]
    }
   ],
   "source": [
    "# Checking whether number of comments has been incremented and notification has been generated\n",
    "try:\n",
    "    mycursor.execute(\"SELECT * FROM Posts\")\n",
    "except mysql.connector.Error as err:\n",
    "    print(\"Something went wrong {}\".format(err))\n",
    "    \n",
    "for x in mycursor:\n",
    "    for item in x:\n",
    "        print(item)\n",
    "        \n",
    "        \n",
    "username = \"tauseef09\"\n",
    "try:\n",
    "    mycursor.execute(\"SELECT notif_msg FROM Notifications WHERE notified_user='%s' ORDER BY not_time DESC\" % (username))\n",
    "except mysql.connector.Error as err:\n",
    "    print(\"Something went wrong {}\".format(err))\n",
    "    \n",
    "for x in mycursor:\n",
    "    print(x)"
   ]
  },
  {
   "cell_type": "code",
   "execution_count": 60,
   "metadata": {},
   "outputs": [],
   "source": [
    "# Simulating the mechanism of deleting a comment from a post\n",
    "username1 = \"ishmam05\"\n",
    "try:\n",
    "    mycursor.execute(\"DELETE FROM User_comments_on_post WHERE username= '%s'\" % (username1))\n",
    "except mysql.connector.Error as err:\n",
    "    print(\"Something went wrong: {}\".format(err))"
   ]
  },
  {
   "cell_type": "code",
   "execution_count": 61,
   "metadata": {},
   "outputs": [],
   "source": [
    "db.commit()"
   ]
  },
  {
   "cell_type": "code",
   "execution_count": 62,
   "metadata": {},
   "outputs": [
    {
     "name": "stdout",
     "output_type": "stream",
     "text": [
      "tauseef09\n",
      "2021-07-15 15:37:54\n",
      "54c830f5-e550-11eb-92b2-c8d9d28c3c05\n",
      "This is a title\n",
      "Machine learning (ML) is the study of computer algorithms that improve automatically through experience and by the use of data.[1] It is seen as a part of artificial intelligence. Machine learning algorithms build a model based on sample data, known as \"training data\", in order to make predictions or decisions without being explicitly programmed to do so.[2] Machine learning algorithms are used in a wide variety of applications, such as in medicine, email filtering, speech recognition, and computer vision, where it is difficult or unfeasible to develop conventional algorithms to perform the needed tasks.[3]\n",
      "\n",
      "A subset of machine learning is closely related to computational statistics, which focuses on making predictions using computers; but not all machine learning is statistical learning. The study of mathematical optimization delivers methods, theory and application domains to the field of machine learning. Data mining is a related field of study, focusing on exploratory data analysis through unsupervised learning.[5][6] In its application across business problems, machine learning is also referred to as predictive analytics.\n",
      "None\n",
      "1\n",
      "1\n"
     ]
    }
   ],
   "source": [
    "# Checking whether number of comments has been decremented\n",
    "try:\n",
    "    mycursor.execute(\"SELECT * FROM Posts\")\n",
    "except mysql.connector.Error as err:\n",
    "    print(\"Something went wrong {}\".format(err))\n",
    "    \n",
    "for x in mycursor:\n",
    "    for item in x:\n",
    "        print(item)"
   ]
  },
  {
   "cell_type": "markdown",
   "metadata": {},
   "source": [
    "## Testing the saved posts mechanism"
   ]
  },
  {
   "cell_type": "code",
   "execution_count": 63,
   "metadata": {},
   "outputs": [],
   "source": [
    "# Creating the user_saves_post table \n",
    "try:\n",
    "    mycursor.execute('''CREATE TABLE IF NOT EXISTS User_saves_post\n",
    "                        (\n",
    "                            username VARCHAR(20), \n",
    "                            post_id VARCHAR(36),\n",
    "                            CONSTRAINT user_saves_post_pk PRIMARY KEY(username, post_id),\n",
    "                            CONSTRAINT user_saves_post_users_fk FOREIGN KEY(username) REFERENCES Users(username) ON DELETE CASCADE,\n",
    "                            CONSTRAINT user_saves_post_posts_fk FOREIGN KEY(post_id) REFERENCES Posts(post_id) ON DELETE CASCADE\n",
    "                        )''')\n",
    "except mysql.connector.Error as err:\n",
    "    print(\"Something went wrong: {}\".format(err))"
   ]
  },
  {
   "cell_type": "code",
   "execution_count": 64,
   "metadata": {},
   "outputs": [],
   "source": [
    "# Simulating the mechanism of saving a post \n",
    "username1 = \"tauseef09\"\n",
    "username2 = \"ishmam05\"\n",
    "try:\n",
    "    mycursor.execute(\"SELECT post_id FROM Posts WHERE created_by='%s'\" % (username1))\n",
    "except mysql.connector.Error as err:\n",
    "    print(\"Something went wrong {}\".format(err))\n",
    "\n",
    "post_id = \"\"\n",
    "for x in mycursor:\n",
    "    post_id = x[0]\n",
    "    \n",
    "    \n",
    "try:\n",
    "    mycursor.execute('''INSERT INTO User_saves_post(username, post_id) VALUES(%s, %s)''', \n",
    "                     (username1, post_id))\n",
    "    mycursor.execute('''INSERT INTO User_saves_post(username, post_id) VALUES(%s, %s)''', \n",
    "                     (username2, post_id))\n",
    "except mysql.connector.Error as err:\n",
    "    print(\"Something went wrong: {}\".format(err))"
   ]
  },
  {
   "cell_type": "code",
   "execution_count": 65,
   "metadata": {},
   "outputs": [],
   "source": [
    "db.commit()"
   ]
  },
  {
   "cell_type": "code",
   "execution_count": 66,
   "metadata": {},
   "outputs": [
    {
     "name": "stdout",
     "output_type": "stream",
     "text": [
      "('ishmam05', '54c830f5-e550-11eb-92b2-c8d9d28c3c05')\n",
      "('tauseef09', '54c830f5-e550-11eb-92b2-c8d9d28c3c05')\n"
     ]
    }
   ],
   "source": [
    "try:\n",
    "    mycursor.execute(\"SELECT * FROM User_saves_post\")\n",
    "except mysql.connector.Error as err:\n",
    "    print(\"Something went wrong {}\".format(err))\n",
    "    \n",
    "for x in mycursor:\n",
    "    print(x)"
   ]
  },
  {
   "cell_type": "code",
   "execution_count": 67,
   "metadata": {},
   "outputs": [],
   "source": [
    "# Simulating the mechanism of unsaving a post\n",
    "username1 = \"ishmam05\"\n",
    "try:\n",
    "    mycursor.execute(\"DELETE FROM User_saves_post WHERE username= '%s'\" % (username1))\n",
    "except mysql.connector.Error as err:\n",
    "    print(\"Something went wrong: {}\".format(err))"
   ]
  },
  {
   "cell_type": "code",
   "execution_count": 68,
   "metadata": {},
   "outputs": [],
   "source": [
    "db.commit()"
   ]
  },
  {
   "cell_type": "code",
   "execution_count": 69,
   "metadata": {},
   "outputs": [
    {
     "name": "stdout",
     "output_type": "stream",
     "text": [
      "('tauseef09', '54c830f5-e550-11eb-92b2-c8d9d28c3c05')\n"
     ]
    }
   ],
   "source": [
    "try:\n",
    "    mycursor.execute(\"SELECT * FROM User_saves_post\")\n",
    "except mysql.connector.Error as err:\n",
    "    print(\"Something went wrong {}\".format(err))\n",
    "    \n",
    "for x in mycursor:\n",
    "    print(x)"
   ]
  },
  {
   "cell_type": "markdown",
   "metadata": {},
   "source": [
    "## Testing the reported posts mechanism"
   ]
  },
  {
   "cell_type": "code",
   "execution_count": 70,
   "metadata": {},
   "outputs": [],
   "source": [
    "# Creating the user_reports_post table \n",
    "try:\n",
    "    mycursor.execute('''CREATE TABLE IF NOT EXISTS User_reports_post\n",
    "                        (\n",
    "                            username VARCHAR(20), \n",
    "                            post_id VARCHAR(36),\n",
    "                            CONSTRAINT user_reports_post_pk PRIMARY KEY(username, post_id),\n",
    "                            CONSTRAINT user_reports_post_users_fk FOREIGN KEY(username) REFERENCES Users(username) ON DELETE CASCADE,\n",
    "                            CONSTRAINT user_reports_post_posts_fk FOREIGN KEY(post_id) REFERENCES Posts(post_id) ON DELETE CASCADE\n",
    "                        )''')\n",
    "except mysql.connector.Error as err:\n",
    "    print(\"Something went wrong: {}\".format(err))"
   ]
  },
  {
   "cell_type": "code",
   "execution_count": 71,
   "metadata": {},
   "outputs": [],
   "source": [
    "# Simulating the mechanism of reporting a post \n",
    "username1 = \"tauseef09\"\n",
    "username2 = \"ishmam05\"\n",
    "try:\n",
    "    mycursor.execute(\"SELECT post_id FROM Posts WHERE created_by='%s'\" % (username1))\n",
    "except mysql.connector.Error as err:\n",
    "    print(\"Something went wrong {}\".format(err))\n",
    "\n",
    "post_id = \"\"\n",
    "for x in mycursor:\n",
    "    post_id = x[0]\n",
    "    \n",
    "    \n",
    "try:\n",
    "    mycursor.execute('''INSERT INTO User_reports_post(username, post_id) VALUES(%s, %s)''', \n",
    "                     (username1, post_id))\n",
    "    mycursor.execute('''INSERT INTO User_reports_post(username, post_id) VALUES(%s, %s)''', \n",
    "                     (username2, post_id))\n",
    "except mysql.connector.Error as err:\n",
    "    print(\"Something went wrong: {}\".format(err))"
   ]
  },
  {
   "cell_type": "code",
   "execution_count": 72,
   "metadata": {},
   "outputs": [],
   "source": [
    "db.commit()"
   ]
  },
  {
   "cell_type": "code",
   "execution_count": 73,
   "metadata": {},
   "outputs": [
    {
     "name": "stdout",
     "output_type": "stream",
     "text": [
      "('ishmam05', '54c830f5-e550-11eb-92b2-c8d9d28c3c05')\n",
      "('tauseef09', '54c830f5-e550-11eb-92b2-c8d9d28c3c05')\n"
     ]
    }
   ],
   "source": [
    "try:\n",
    "    mycursor.execute(\"SELECT * FROM User_reports_post\")\n",
    "except mysql.connector.Error as err:\n",
    "    print(\"Something went wrong {}\".format(err))\n",
    "    \n",
    "for x in mycursor:\n",
    "    print(x)"
   ]
  },
  {
   "cell_type": "markdown",
   "metadata": {},
   "source": [
    "## Testing the follow/unfollow mechanism"
   ]
  },
  {
   "cell_type": "code",
   "execution_count": 74,
   "metadata": {},
   "outputs": [],
   "source": [
    "# Creating the user_follows_user table \n",
    "try:\n",
    "    mycursor.execute('''CREATE TABLE IF NOT EXISTS User_follows_user\n",
    "                        (\n",
    "                            follower VARCHAR(20), \n",
    "                            following VARCHAR(20),\n",
    "                            CONSTRAINT user_follows_user_pk PRIMARY KEY(follower, following),\n",
    "                            CONSTRAINT user_follower_fk FOREIGN KEY(follower) REFERENCES Users(username) ON DELETE CASCADE,\n",
    "                            CONSTRAINT user_following_fk FOREIGN KEY(following) REFERENCES Users(username) ON DELETE CASCADE\n",
    "                        )''')\n",
    "except mysql.connector.Error as err:\n",
    "    print(\"Something went wrong: {}\".format(err))"
   ]
  },
  {
   "cell_type": "code",
   "execution_count": 75,
   "metadata": {},
   "outputs": [],
   "source": [
    "# Creating the trigger to increment followers  \n",
    "try:\n",
    "    mycursor.execute('''CREATE TRIGGER Users_follower_increment\n",
    "                        AFTER INSERT ON User_follows_user\n",
    "                        FOR EACH ROW\n",
    "                        UPDATE Users\n",
    "                        SET num_followers = num_followers+1\n",
    "                        WHERE username = NEW.following\n",
    "                        ''')\n",
    "except mysql.connector.Error as err:\n",
    "    print(\"Something went wrong: {}\".format(err))"
   ]
  },
  {
   "cell_type": "code",
   "execution_count": 76,
   "metadata": {},
   "outputs": [],
   "source": [
    "# Creating the trigger to increment following \n",
    "try:\n",
    "    mycursor.execute('''CREATE TRIGGER Users_following_increment\n",
    "                        AFTER INSERT ON User_follows_user\n",
    "                        FOR EACH ROW\n",
    "                        UPDATE Users\n",
    "                        SET num_following = num_following+1\n",
    "                        WHERE username = NEW.follower\n",
    "                        ''')\n",
    "except mysql.connector.Error as err:\n",
    "    print(\"Something went wrong: {}\".format(err))"
   ]
  },
  {
   "cell_type": "code",
   "execution_count": 77,
   "metadata": {},
   "outputs": [],
   "source": [
    "# Creating the trigger to decrement followers  \n",
    "try:\n",
    "    mycursor.execute('''CREATE TRIGGER Users_follower_decrement\n",
    "                        AFTER DELETE ON User_follows_user\n",
    "                        FOR EACH ROW\n",
    "                        UPDATE Users\n",
    "                        SET num_followers = num_followers-1\n",
    "                        WHERE username = OLD.following\n",
    "                        ''')\n",
    "except mysql.connector.Error as err:\n",
    "    print(\"Something went wrong: {}\".format(err))"
   ]
  },
  {
   "cell_type": "code",
   "execution_count": 78,
   "metadata": {},
   "outputs": [],
   "source": [
    "# Creating the trigger to decrement following  \n",
    "try:\n",
    "    mycursor.execute('''CREATE TRIGGER Users_following_decrement\n",
    "                        AFTER DELETE ON User_follows_user\n",
    "                        FOR EACH ROW\n",
    "                        UPDATE Users\n",
    "                        SET num_following = num_following-1\n",
    "                        WHERE username = OLD.follower\n",
    "                        ''')\n",
    "except mysql.connector.Error as err:\n",
    "    print(\"Something went wrong: {}\".format(err))"
   ]
  },
  {
   "cell_type": "code",
   "execution_count": 79,
   "metadata": {},
   "outputs": [],
   "source": [
    "# Simulating the mechanism of following \n",
    "notified_user = \"tauseef09\"\n",
    "notifying_user = \"ishmam05\"\n",
    "    \n",
    "try:\n",
    "    mycursor.execute('''INSERT INTO User_follows_user(follower, following) VALUES(%s, %s)''', \n",
    "                     (notifying_user, notified_user))\n",
    "    msg = generate_notif_msg(notifying_user, 'follow')\n",
    "    mycursor.execute('''INSERT INTO Notifications(notif_id, hyperlink_user, notif_msg, notified_user, notifying_user, type, not_time) \n",
    "                        VALUES(UUID(), %s, %s, %s, %s, 'follow', %s)''', \n",
    "                     (notifying_user, msg, notified_user, notifying_user, datetime.now()))\n",
    "    db.commit()\n",
    "except mysql.connector.Error as err:\n",
    "    print(\"Something went wrong: {}\".format(err))\n",
    "    db.rollback()"
   ]
  },
  {
   "cell_type": "code",
   "execution_count": 80,
   "metadata": {},
   "outputs": [
    {
     "name": "stdout",
     "output_type": "stream",
     "text": [
      "('Ishmam Tashdeed', 'ishmam05', 'ishmamtashdeed05@gmail.com', 'password', 0, None, 0, 1, None)\n",
      "('Tauseef Tajwar', 'tauseef09', 'tauseef.tajwar36@gmail.com', 'password', 0, None, 1, 0, None)\n",
      "('ishmam05 started following you.',)\n",
      "('tauseef09 commented on your post.',)\n",
      "('ishmam05 commented on your post.',)\n",
      "('tauseef09 likes your post.',)\n"
     ]
    }
   ],
   "source": [
    "# Checking follower count and notification generation\n",
    "try:\n",
    "    mycursor.execute(\"SELECT * FROM Users\")\n",
    "except mysql.connector.Error as err:\n",
    "    print(\"Something went wrong {}\".format(err))\n",
    "    \n",
    "for x in mycursor:\n",
    "    print(x)\n",
    "    \n",
    "username = \"tauseef09\"\n",
    "try:\n",
    "    mycursor.execute(\"SELECT notif_msg FROM Notifications WHERE notified_user='%s' ORDER BY not_time DESC\" % (username))\n",
    "except mysql.connector.Error as err:\n",
    "    print(\"Something went wrong {}\".format(err))\n",
    "    \n",
    "for x in mycursor:\n",
    "    print(x)"
   ]
  },
  {
   "cell_type": "code",
   "execution_count": 81,
   "metadata": {},
   "outputs": [],
   "source": [
    "notified_user = \"ishmam05\"\n",
    "notifying_user = \"tauseef09\"\n",
    "    \n",
    "try:\n",
    "    mycursor.execute('''INSERT INTO User_follows_user(follower, following) VALUES(%s, %s)''', \n",
    "                     (notifying_user, notified_user))\n",
    "    msg = generate_notif_msg(notifying_user, 'follow')\n",
    "    mycursor.execute('''INSERT INTO Notifications(notif_id, hyperlink_user, notif_msg, notified_user, notifying_user, type, not_time) \n",
    "                        VALUES(UUID(), %s, %s, %s, %s, 'follow', %s)''', \n",
    "                     (notifying_user, msg, notified_user, notifying_user, datetime.now()))\n",
    "    db.commit()\n",
    "except mysql.connector.Error as err:\n",
    "    print(\"Something went wrong: {}\".format(err))\n",
    "    db.rollback()"
   ]
  },
  {
   "cell_type": "code",
   "execution_count": 82,
   "metadata": {},
   "outputs": [
    {
     "name": "stdout",
     "output_type": "stream",
     "text": [
      "('Ishmam Tashdeed', 'ishmam05', 'ishmamtashdeed05@gmail.com', 'password', 0, None, 1, 1, None)\n",
      "('Tauseef Tajwar', 'tauseef09', 'tauseef.tajwar36@gmail.com', 'password', 0, None, 1, 1, None)\n",
      "\n",
      "Checking all notifications\n",
      "('a5cda9dd-e550-11eb-92b2-c8d9d28c3c05', None, 'tauseef09', 'tauseef09 started following you.', 'ishmam05', 'tauseef09', 'follow', datetime.datetime(2021, 7, 15, 15, 40, 11))\n",
      "('9d21c817-e550-11eb-92b2-c8d9d28c3c05', None, 'ishmam05', 'ishmam05 started following you.', 'tauseef09', 'ishmam05', 'follow', datetime.datetime(2021, 7, 15, 15, 39, 56))\n",
      "('832f509d-e550-11eb-92b2-c8d9d28c3c05', '54c830f5-e550-11eb-92b2-c8d9d28c3c05', None, 'tauseef09 commented on your post.', 'tauseef09', 'tauseef09', 'comment', datetime.datetime(2021, 7, 15, 15, 39, 13))\n",
      "('8092d262-e550-11eb-92b2-c8d9d28c3c05', '54c830f5-e550-11eb-92b2-c8d9d28c3c05', None, 'ishmam05 commented on your post.', 'tauseef09', 'ishmam05', 'comment', datetime.datetime(2021, 7, 15, 15, 39, 8))\n",
      "('6f6b88c0-e550-11eb-92b2-c8d9d28c3c05', '54c830f5-e550-11eb-92b2-c8d9d28c3c05', None, 'tauseef09 likes your post.', 'tauseef09', 'tauseef09', 'like', datetime.datetime(2021, 7, 15, 15, 38, 39))\n"
     ]
    }
   ],
   "source": [
    "try:\n",
    "    mycursor.execute(\"SELECT * FROM Users\")\n",
    "except mysql.connector.Error as err:\n",
    "    print(\"Something went wrong {}\".format(err))\n",
    "    \n",
    "for x in mycursor:\n",
    "    print(x)\n",
    "    \n",
    "try:\n",
    "    mycursor.execute(\"SELECT * FROM Notifications ORDER BY not_time DESC\")\n",
    "except mysql.connector.Error as err:\n",
    "    print(\"Something went wrong {}\".format(err))\n",
    "\n",
    "print('\\nChecking all notifications')\n",
    "for x in mycursor:\n",
    "    print(x)"
   ]
  },
  {
   "cell_type": "code",
   "execution_count": 83,
   "metadata": {},
   "outputs": [],
   "source": [
    "# Simulating the mechanism of unfollowing\n",
    "notified_user = \"tauseef09\"\n",
    "notifying_user = \"ishmam05\"\n",
    "    \n",
    "try:\n",
    "    mycursor.execute(\"DELETE FROM User_follows_user WHERE follower='%s' AND following='%s'\" % (notifying_user, notified_user))\n",
    "    mycursor.execute('''DELETE FROM Notifications WHERE notified_user='%s' AND notifying_user='%s'\n",
    "                        AND hyperlink_user='%s' AND type='follow' ''' % (notified_user, notifying_user, notifying_user))\n",
    "    db.commit()\n",
    "except mysql.connector.Error as err:\n",
    "    print(\"Something went wrong: {}\".format(err))\n",
    "    db.rollback()"
   ]
  },
  {
   "cell_type": "code",
   "execution_count": 84,
   "metadata": {},
   "outputs": [
    {
     "name": "stdout",
     "output_type": "stream",
     "text": [
      "('Ishmam Tashdeed', 'ishmam05', 'ishmamtashdeed05@gmail.com', 'password', 0, None, 1, 0, None)\n",
      "('Tauseef Tajwar', 'tauseef09', 'tauseef.tajwar36@gmail.com', 'password', 0, None, 0, 1, None)\n",
      "\n",
      "Checking all notifications\n",
      "('a5cda9dd-e550-11eb-92b2-c8d9d28c3c05', None, 'tauseef09', 'tauseef09 started following you.', 'ishmam05', 'tauseef09', 'follow', datetime.datetime(2021, 7, 15, 15, 40, 11))\n",
      "('832f509d-e550-11eb-92b2-c8d9d28c3c05', '54c830f5-e550-11eb-92b2-c8d9d28c3c05', None, 'tauseef09 commented on your post.', 'tauseef09', 'tauseef09', 'comment', datetime.datetime(2021, 7, 15, 15, 39, 13))\n",
      "('8092d262-e550-11eb-92b2-c8d9d28c3c05', '54c830f5-e550-11eb-92b2-c8d9d28c3c05', None, 'ishmam05 commented on your post.', 'tauseef09', 'ishmam05', 'comment', datetime.datetime(2021, 7, 15, 15, 39, 8))\n",
      "('6f6b88c0-e550-11eb-92b2-c8d9d28c3c05', '54c830f5-e550-11eb-92b2-c8d9d28c3c05', None, 'tauseef09 likes your post.', 'tauseef09', 'tauseef09', 'like', datetime.datetime(2021, 7, 15, 15, 38, 39))\n"
     ]
    }
   ],
   "source": [
    "try:\n",
    "    mycursor.execute(\"SELECT * FROM Users\")\n",
    "except mysql.connector.Error as err:\n",
    "    print(\"Something went wrong {}\".format(err))\n",
    "    \n",
    "for x in mycursor:\n",
    "    print(x)\n",
    "    \n",
    "try:\n",
    "    mycursor.execute(\"SELECT * FROM Notifications ORDER BY not_time DESC\")\n",
    "except mysql.connector.Error as err:\n",
    "    print(\"Something went wrong {}\".format(err))\n",
    "    \n",
    "print('\\nChecking all notifications')\n",
    "for x in mycursor:\n",
    "    print(x)"
   ]
  },
  {
   "cell_type": "markdown",
   "metadata": {},
   "source": [
    "## Testing the Contact Info mechanism"
   ]
  },
  {
   "cell_type": "code",
   "execution_count": 85,
   "metadata": {},
   "outputs": [],
   "source": [
    "# Creating the Contact_info table \n",
    "try:\n",
    "    mycursor.execute('''CREATE TABLE IF NOT EXISTS Contact_info\n",
    "                        (\n",
    "                            contact_title VARCHAR(20), \n",
    "                            contact_link VARCHAR(50),\n",
    "                            username VARCHAR(20), \n",
    "                            CONSTRAINT contact_info_pk PRIMARY KEY(contact_title, contact_link, username),\n",
    "                            CONSTRAINT contact_info_user_fk FOREIGN KEY(username) REFERENCES Users(username) ON DELETE CASCADE\n",
    "                        )''')\n",
    "except mysql.connector.Error as err:\n",
    "    print(\"Something went wrong: {}\".format(err))"
   ]
  },
  {
   "cell_type": "code",
   "execution_count": 86,
   "metadata": {},
   "outputs": [],
   "source": [
    "# Inserting some dummy information \n",
    "username1 = \"tauseef09\"\n",
    "username2 = \"ishmam05\"\n",
    "    \n",
    "try:\n",
    "    mycursor.execute('''INSERT INTO Contact_info(contact_title, contact_link, username) VALUES(%s, %s, %s)''', \n",
    "                     ('facebook', 'www.facebook.com', username1))\n",
    "    mycursor.execute('''INSERT INTO Contact_info(contact_title, contact_link, username) VALUES(%s, %s, %s)''', \n",
    "                     ('facebook', 'www.facebook.com', username2))\n",
    "    mycursor.execute('''INSERT INTO Contact_info(contact_title, contact_link, username) VALUES(%s, %s, %s)''', \n",
    "                     ('instagram', 'www.instagram.com', username2))\n",
    "except mysql.connector.Error as err:\n",
    "    print(\"Something went wrong: {}\".format(err))"
   ]
  },
  {
   "cell_type": "code",
   "execution_count": 87,
   "metadata": {},
   "outputs": [
    {
     "name": "stdout",
     "output_type": "stream",
     "text": [
      "('facebook', 'www.facebook.com', 'ishmam05')\n",
      "('instagram', 'www.instagram.com', 'ishmam05')\n",
      "('facebook', 'www.facebook.com', 'tauseef09')\n"
     ]
    }
   ],
   "source": [
    "try:\n",
    "    mycursor.execute(\"SELECT * FROM Contact_info\")\n",
    "except mysql.connector.Error as err:\n",
    "    print(\"Something went wrong {}\".format(err))\n",
    "    \n",
    "for x in mycursor:\n",
    "    print(x)"
   ]
  },
  {
   "cell_type": "markdown",
   "metadata": {},
   "source": [
    "## Testing the Experience mechanism"
   ]
  },
  {
   "cell_type": "code",
   "execution_count": 88,
   "metadata": {},
   "outputs": [],
   "source": [
    "# Creating the Experience table \n",
    "try:\n",
    "    mycursor.execute('''CREATE TABLE IF NOT EXISTS Experience\n",
    "                        (\n",
    "                            designation VARCHAR(30), \n",
    "                            institution VARCHAR(40),\n",
    "                            username VARCHAR(20), \n",
    "                            CONSTRAINT experience_pk PRIMARY KEY(designation, institution, username),\n",
    "                            CONSTRAINT experience_user_fk FOREIGN KEY(username) REFERENCES Users(username) ON DELETE CASCADE\n",
    "                        )''')\n",
    "except mysql.connector.Error as err:\n",
    "    print(\"Something went wrong: {}\".format(err))"
   ]
  },
  {
   "cell_type": "code",
   "execution_count": 89,
   "metadata": {},
   "outputs": [],
   "source": [
    "# Inserting some dummy experience \n",
    "username1 = \"tauseef09\"\n",
    "username2 = \"ishmam05\"\n",
    "    \n",
    "try:\n",
    "    mycursor.execute('''INSERT INTO Experience(designation, institution, username) VALUES(%s, %s, %s)''', \n",
    "                     ('Student', 'IUT', username1))\n",
    "    mycursor.execute('''INSERT INTO Experience(designation, institution, username) VALUES(%s, %s, %s)''', \n",
    "                     ('Student', 'IUT', username2))\n",
    "    mycursor.execute('''INSERT INTO Experience(designation, institution, username) VALUES(%s, %s, %s)''', \n",
    "                     ('Software Engineer', 'Google', username2))\n",
    "except mysql.connector.Error as err:\n",
    "    print(\"Something went wrong: {}\".format(err))"
   ]
  },
  {
   "cell_type": "code",
   "execution_count": 90,
   "metadata": {},
   "outputs": [],
   "source": [
    "db.commit()"
   ]
  },
  {
   "cell_type": "code",
   "execution_count": 91,
   "metadata": {},
   "outputs": [
    {
     "name": "stdout",
     "output_type": "stream",
     "text": [
      "('Software Engineer', 'Google', 'ishmam05')\n",
      "('Student', 'IUT', 'ishmam05')\n",
      "('Student', 'IUT', 'tauseef09')\n"
     ]
    }
   ],
   "source": [
    "try:\n",
    "    mycursor.execute(\"SELECT * FROM Experience\")\n",
    "except mysql.connector.Error as err:\n",
    "    print(\"Something went wrong {}\".format(err))\n",
    "    \n",
    "for x in mycursor:\n",
    "    print(x)"
   ]
  },
  {
   "cell_type": "markdown",
   "metadata": {},
   "source": [
    "## Testing the Topics table "
   ]
  },
  {
   "cell_type": "code",
   "execution_count": 92,
   "metadata": {},
   "outputs": [],
   "source": [
    "# Creating the Topics table \n",
    "try:\n",
    "    mycursor.execute('''CREATE TABLE IF NOT EXISTS Topics\n",
    "                        (\n",
    "                            topic_name VARCHAR(35),\n",
    "                            CONSTRAINT topics_pk PRIMARY KEY(topic_name)\n",
    "                        )''')\n",
    "except mysql.connector.Error as err:\n",
    "    print(\"Something went wrong: {}\".format(err))"
   ]
  },
  {
   "cell_type": "code",
   "execution_count": 93,
   "metadata": {},
   "outputs": [],
   "source": [
    "# Entering some dummy topics \n",
    "topic1 = \"Machine Learning\"\n",
    "topic2 = \"HTML\"\n",
    "topic3 = \"CSS\"\n",
    "topic4 = \"Python\"\n",
    "try:\n",
    "    mycursor.execute('''INSERT INTO Topics(topic_name) VALUES('%s')''' % (topic1))\n",
    "    mycursor.execute('''INSERT INTO Topics(topic_name) VALUES('%s')''' % (topic2))\n",
    "    mycursor.execute('''INSERT INTO Topics(topic_name) VALUES('%s')''' % (topic3))\n",
    "    mycursor.execute('''INSERT INTO Topics(topic_name) VALUES('%s')''' % (topic4))\n",
    "except mysql.connector.Error as err:\n",
    "    print(\"Something went wrong: {}\".format(err))"
   ]
  },
  {
   "cell_type": "code",
   "execution_count": 94,
   "metadata": {},
   "outputs": [],
   "source": [
    "db.commit()"
   ]
  },
  {
   "cell_type": "code",
   "execution_count": 95,
   "metadata": {},
   "outputs": [
    {
     "name": "stdout",
     "output_type": "stream",
     "text": [
      "('CSS',)\n",
      "('HTML',)\n",
      "('Machine Learning',)\n",
      "('Python',)\n"
     ]
    }
   ],
   "source": [
    "try:\n",
    "    mycursor.execute(\"SELECT * FROM Topics\")\n",
    "except mysql.connector.Error as err:\n",
    "    print(\"Something went wrong {}\".format(err))\n",
    "    \n",
    "for x in mycursor:\n",
    "    print(x)"
   ]
  },
  {
   "cell_type": "markdown",
   "metadata": {},
   "source": [
    "## Testing the Topic following mechanism"
   ]
  },
  {
   "cell_type": "code",
   "execution_count": 96,
   "metadata": {},
   "outputs": [],
   "source": [
    "# Creating the user_follows_topic table \n",
    "try:\n",
    "    mycursor.execute('''CREATE TABLE IF NOT EXISTS User_follows_topic\n",
    "                        (\n",
    "                            topic_name VARCHAR(35),\n",
    "                            username VARCHAR(20),\n",
    "                            CONSTRAINT user_follows_topic_pk PRIMARY KEY(topic_name, username),\n",
    "                            CONSTRAINT topic_follow_user_user_fk FOREIGN KEY(username) REFERENCES Users(username) ON DELETE CASCADE,\n",
    "                            CONSTRAINT topic_follow_user_topic_fk FOREIGN KEY(topic_name) REFERENCES Topics(topic_name) ON DELETE CASCADE\n",
    "                        )''')\n",
    "except mysql.connector.Error as err:\n",
    "    print(\"Something went wrong: {}\".format(err))"
   ]
  },
  {
   "cell_type": "code",
   "execution_count": 97,
   "metadata": {},
   "outputs": [],
   "source": [
    "# Simulating the following mechanism\n",
    "username1 = \"tauseef09\"\n",
    "username2 = \"ishmam05\"\n",
    "topic1 = \"Machine Learning\"\n",
    "topic2 = \"HTML\"\n",
    "topic3 = \"CSS\"\n",
    "topic4 = \"Python\"\n",
    "try:\n",
    "    mycursor.execute('''INSERT INTO User_follows_topic(topic_name, username) VALUES(%s, %s)''', (topic1, username1))\n",
    "    mycursor.execute('''INSERT INTO User_follows_topic(topic_name, username) VALUES(%s, %s)''', (topic2, username1))\n",
    "    mycursor.execute('''INSERT INTO User_follows_topic(topic_name, username) VALUES(%s, %s)''', (topic3, username2))\n",
    "    mycursor.execute('''INSERT INTO User_follows_topic(topic_name, username) VALUES(%s, %s)''', (topic4, username2))\n",
    "except mysql.connector.Error as err:\n",
    "    print(\"Something went wrong: {}\".format(err))"
   ]
  },
  {
   "cell_type": "code",
   "execution_count": 98,
   "metadata": {},
   "outputs": [],
   "source": [
    "db.commit()"
   ]
  },
  {
   "cell_type": "code",
   "execution_count": 99,
   "metadata": {},
   "outputs": [
    {
     "name": "stdout",
     "output_type": "stream",
     "text": [
      "('CSS', 'ishmam05')\n",
      "('Python', 'ishmam05')\n",
      "('HTML', 'tauseef09')\n",
      "('Machine Learning', 'tauseef09')\n"
     ]
    }
   ],
   "source": [
    "try:\n",
    "    mycursor.execute(\"SELECT * FROM User_follows_topic\")\n",
    "except mysql.connector.Error as err:\n",
    "    print(\"Something went wrong {}\".format(err))\n",
    "    \n",
    "for x in mycursor:\n",
    "    print(x)"
   ]
  },
  {
   "cell_type": "markdown",
   "metadata": {},
   "source": [
    "## Testing the Post topic mechanism"
   ]
  },
  {
   "cell_type": "code",
   "execution_count": 100,
   "metadata": {},
   "outputs": [],
   "source": [
    "# Creating the post_has_topic table \n",
    "try:\n",
    "    mycursor.execute('''CREATE TABLE IF NOT EXISTS Post_has_topic\n",
    "                        (\n",
    "                            topic_name VARCHAR(35),\n",
    "                            post_id VARCHAR(36),\n",
    "                            CONSTRAINT post_has_topic_pk PRIMARY KEY(topic_name, post_id),\n",
    "                            CONSTRAINT post_has_topic_post_fk FOREIGN KEY(post_id) REFERENCES Posts(post_id) ON DELETE CASCADE,\n",
    "                            CONSTRAINT post_has_topic_topic_fk FOREIGN KEY(topic_name) REFERENCES Topics(topic_name) ON DELETE CASCADE\n",
    "                        )''')\n",
    "except mysql.connector.Error as err:\n",
    "    print(\"Something went wrong: {}\".format(err))"
   ]
  },
  {
   "cell_type": "code",
   "execution_count": 101,
   "metadata": {},
   "outputs": [],
   "source": [
    "# Assigning some topics to a post \n",
    "username = \"tauseef09\"\n",
    "try:\n",
    "    mycursor.execute(\"\"\"SELECT post_id FROM Posts WHERE created_by = '%s' \"\"\" % (username))\n",
    "except mysql.connector.Error as err:\n",
    "    print(\"Something went wrong {}\".format(err))\n",
    "\n",
    "post_id = \"\"\n",
    "for x in mycursor:\n",
    "    post_id = x[0]\n",
    "    \n",
    "topic1 = \"Machine Learning\"\n",
    "topic2 = \"HTML\"\n",
    "topic3 = \"CSS\"\n",
    "topic4 = \"Python\"\n",
    "try:\n",
    "    mycursor.execute('''DELETE FROM Post_has_topic WHERE post_id='%s' ''' % (post_id))\n",
    "    mycursor.execute('''INSERT INTO Post_has_topic(topic_name, post_id) VALUES(%s, %s)''', (topic1, post_id))\n",
    "    mycursor.execute('''INSERT INTO Post_has_topic(topic_name, post_id) VALUES(%s, %s)''', (topic2, post_id))\n",
    "    mycursor.execute('''INSERT INTO Post_has_topic(topic_name, post_id) VALUES(%s, %s)''', (topic3, post_id))\n",
    "    mycursor.execute('''INSERT INTO Post_has_topic(topic_name, post_id) VALUES(%s, %s)''', (topic4, post_id))\n",
    "    db.commit()\n",
    "except mysql.connector.Error as err:\n",
    "    print(\"Something went wrong: {}\".format(err))\n",
    "    db.rollback()"
   ]
  },
  {
   "cell_type": "code",
   "execution_count": 102,
   "metadata": {},
   "outputs": [
    {
     "name": "stdout",
     "output_type": "stream",
     "text": [
      "('CSS', '54c830f5-e550-11eb-92b2-c8d9d28c3c05')\n",
      "('HTML', '54c830f5-e550-11eb-92b2-c8d9d28c3c05')\n",
      "('Machine Learning', '54c830f5-e550-11eb-92b2-c8d9d28c3c05')\n",
      "('Python', '54c830f5-e550-11eb-92b2-c8d9d28c3c05')\n"
     ]
    }
   ],
   "source": [
    "try:\n",
    "    mycursor.execute(\"SELECT * FROM Post_has_topic WHERE post_id='%s' \" % (post_id))\n",
    "except mysql.connector.Error as err:\n",
    "    print(\"Something went wrong {}\".format(err))\n",
    "    \n",
    "for x in mycursor:\n",
    "    print(x)"
   ]
  },
  {
   "cell_type": "markdown",
   "metadata": {},
   "source": [
    "## Testing cascading delete"
   ]
  },
  {
   "cell_type": "code",
   "execution_count": 103,
   "metadata": {},
   "outputs": [
    {
     "name": "stdout",
     "output_type": "stream",
     "text": [
      "('Tauseef Tajwar', 'tauseef09', 'tauseef.tajwar36@gmail.com', 'password', 0, None, 0, 1, None)\n"
     ]
    }
   ],
   "source": [
    "# The following block is the proper way to delete a user \n",
    "username = \"ishmam05\"\n",
    "try:\n",
    "    mycursor.execute(\"\"\"UPDATE Users SET num_followers = num_followers-1 \n",
    "        WHERE username IN (SELECT following FROM User_follows_user WHERE follower = '%s')\"\"\" % (username))\n",
    "    mycursor.execute(\"DELETE FROM Users WHERE username = '%s'\" % (username))\n",
    "    db.commit()\n",
    "except mysql.connector.Error as err:\n",
    "    print(\"Something went wrong {}\".format(err))\n",
    "    db.rollback()\n",
    "\n",
    "# Effect of cascade on users\n",
    "try:\n",
    "    mycursor.execute(\"SELECT * FROM Users\")\n",
    "except mysql.connector.Error as err:\n",
    "    print(\"Something went wrong {}\".format(err))\n",
    "\n",
    "for x in mycursor:\n",
    "    print(x)"
   ]
  },
  {
   "cell_type": "code",
   "execution_count": 104,
   "metadata": {},
   "outputs": [
    {
     "name": "stdout",
     "output_type": "stream",
     "text": [
      "tauseef09\n",
      "2021-07-15 15:37:54\n",
      "54c830f5-e550-11eb-92b2-c8d9d28c3c05\n",
      "This is a title\n",
      "Machine learning (ML) is the study of computer algorithms that improve automatically through experience and by the use of data.[1] It is seen as a part of artificial intelligence. Machine learning algorithms build a model based on sample data, known as \"training data\", in order to make predictions or decisions without being explicitly programmed to do so.[2] Machine learning algorithms are used in a wide variety of applications, such as in medicine, email filtering, speech recognition, and computer vision, where it is difficult or unfeasible to develop conventional algorithms to perform the needed tasks.[3]\n",
      "\n",
      "A subset of machine learning is closely related to computational statistics, which focuses on making predictions using computers; but not all machine learning is statistical learning. The study of mathematical optimization delivers methods, theory and application domains to the field of machine learning. Data mining is a related field of study, focusing on exploratory data analysis through unsupervised learning.[5][6] In its application across business problems, machine learning is also referred to as predictive analytics.\n",
      "None\n",
      "1\n",
      "1\n"
     ]
    }
   ],
   "source": [
    "# Effect of cascade on posts\n",
    "try:\n",
    "    mycursor.execute(\"SELECT * FROM Posts\")\n",
    "except mysql.connector.Error as err:\n",
    "    print(\"Something went wrong {}\".format(err))\n",
    "    \n",
    "for x in mycursor:\n",
    "    for item in x:\n",
    "        print(item)"
   ]
  },
  {
   "cell_type": "code",
   "execution_count": 105,
   "metadata": {},
   "outputs": [
    {
     "name": "stdout",
     "output_type": "stream",
     "text": [
      "('tauseef09', '54c830f5-e550-11eb-92b2-c8d9d28c3c05')\n",
      "('832381ca-e550-11eb-92b2-c8d9d28c3c05', 'tauseef09', '54c830f5-e550-11eb-92b2-c8d9d28c3c05', 'This is a comment by Tauseef', datetime.datetime(2021, 7, 15, 15, 39, 13))\n"
     ]
    }
   ],
   "source": [
    "# Effect of cascade on like and comment\n",
    "try:\n",
    "    mycursor.execute(\"SELECT * FROM User_likes_post\")\n",
    "except:\n",
    "    print(\"Something went wrong {}\".format(err))\n",
    "    \n",
    "for x in mycursor:\n",
    "    print(x)\n",
    "    \n",
    "try:\n",
    "    mycursor.execute(\"SELECT * FROM User_comments_on_post\")\n",
    "except:\n",
    "    print(\"Something went wrong {}\".format(err))\n",
    "    \n",
    "for x in mycursor:\n",
    "    print(x)"
   ]
  },
  {
   "cell_type": "code",
   "execution_count": 106,
   "metadata": {},
   "outputs": [
    {
     "name": "stdout",
     "output_type": "stream",
     "text": [
      "\n",
      "Checking all notifications\n",
      "('832f509d-e550-11eb-92b2-c8d9d28c3c05', '54c830f5-e550-11eb-92b2-c8d9d28c3c05', None, 'tauseef09 commented on your post.', 'tauseef09', 'tauseef09', 'comment', datetime.datetime(2021, 7, 15, 15, 39, 13))\n",
      "('6f6b88c0-e550-11eb-92b2-c8d9d28c3c05', '54c830f5-e550-11eb-92b2-c8d9d28c3c05', None, 'tauseef09 likes your post.', 'tauseef09', 'tauseef09', 'like', datetime.datetime(2021, 7, 15, 15, 38, 39))\n"
     ]
    }
   ],
   "source": [
    "# Effect of cascade on notifications\n",
    "try:\n",
    "    mycursor.execute(\"SELECT * FROM Notifications ORDER BY not_time DESC\")\n",
    "except mysql.connector.Error as err:\n",
    "    print(\"Something went wrong {}\".format(err))\n",
    "    \n",
    "print('\\nChecking all notifications')\n",
    "for x in mycursor:\n",
    "    print(x)"
   ]
  },
  {
   "cell_type": "code",
   "execution_count": 107,
   "metadata": {},
   "outputs": [
    {
     "name": "stdout",
     "output_type": "stream",
     "text": [
      "('facebook', 'www.facebook.com', 'tauseef09')\n"
     ]
    }
   ],
   "source": [
    "# Effect of cascade on contact info\n",
    "try:\n",
    "    mycursor.execute(\"SELECT * FROM Contact_info\")\n",
    "except mysql.connector.Error as err:\n",
    "    print(\"Something went wrong {}\".format(err))\n",
    "    \n",
    "for x in mycursor:\n",
    "    print(x)"
   ]
  },
  {
   "cell_type": "code",
   "execution_count": 108,
   "metadata": {},
   "outputs": [
    {
     "name": "stdout",
     "output_type": "stream",
     "text": [
      "('Student', 'IUT', 'tauseef09')\n"
     ]
    }
   ],
   "source": [
    "# Effect of cascading on experience\n",
    "try:\n",
    "    mycursor.execute(\"SELECT * FROM Experience\")\n",
    "except mysql.connector.Error as err:\n",
    "    print(\"Something went wrong {}\".format(err))\n",
    "    \n",
    "for x in mycursor:\n",
    "    print(x)"
   ]
  },
  {
   "cell_type": "code",
   "execution_count": 109,
   "metadata": {},
   "outputs": [
    {
     "name": "stdout",
     "output_type": "stream",
     "text": [
      "('HTML', 'tauseef09')\n",
      "('Machine Learning', 'tauseef09')\n"
     ]
    }
   ],
   "source": [
    "# Effect of cascading on User_follows_topic\n",
    "try:\n",
    "    mycursor.execute(\"SELECT * FROM User_follows_topic\")\n",
    "except mysql.connector.Error as err:\n",
    "    print(\"Something went wrong {}\".format(err))\n",
    "    \n",
    "for x in mycursor:\n",
    "    print(x)"
   ]
  },
  {
   "cell_type": "code",
   "execution_count": 110,
   "metadata": {},
   "outputs": [
    {
     "name": "stdout",
     "output_type": "stream",
     "text": [
      "('Machine Learning', '54c830f5-e550-11eb-92b2-c8d9d28c3c05')\n",
      "('Python', '54c830f5-e550-11eb-92b2-c8d9d28c3c05')\n"
     ]
    }
   ],
   "source": [
    "# Effect of cascading on Post_has_topic\n",
    "topic1 = \"HTML\"\n",
    "topic2 = \"CSS\"\n",
    "try:\n",
    "    mycursor.execute(\"DELETE FROM Topics WHERE topic_name = '%s'\" % (topic1))\n",
    "    mycursor.execute(\"DELETE FROM Topics WHERE topic_name = '%s'\" % (topic2))    \n",
    "    db.commit()\n",
    "except mysql.connector.Error as err:\n",
    "    print(\"Something went wrong {}\".format(err))\n",
    "    db.rollback()\n",
    "\n",
    "try:\n",
    "    mycursor.execute(\"SELECT * FROM Post_has_topic WHERE post_id='%s' \" % (post_id))\n",
    "except mysql.connector.Error as err:\n",
    "    print(\"Something went wrong {}\".format(err))\n",
    "    \n",
    "for x in mycursor:\n",
    "    print(x)"
   ]
  },
  {
   "cell_type": "markdown",
   "metadata": {},
   "source": [
    "# Closing connections"
   ]
  },
  {
   "cell_type": "code",
   "execution_count": 111,
   "metadata": {},
   "outputs": [],
   "source": [
    "# Should close connection after retrieving result from a query otherwise server might reach connection limit\n",
    "mycursor.close()\n",
    "db.close()"
   ]
  },
  {
   "cell_type": "code",
   "execution_count": null,
   "metadata": {},
   "outputs": [],
   "source": []
  }
 ],
 "metadata": {
  "kernelspec": {
   "display_name": "Python 3",
   "language": "python",
   "name": "python3"
  },
  "language_info": {
   "codemirror_mode": {
    "name": "ipython",
    "version": 3
   },
   "file_extension": ".py",
   "mimetype": "text/x-python",
   "name": "python",
   "nbconvert_exporter": "python",
   "pygments_lexer": "ipython3",
   "version": "3.7.6"
  }
 },
 "nbformat": 4,
 "nbformat_minor": 4
}
